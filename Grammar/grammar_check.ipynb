{
 "cells": [
  {
   "cell_type": "code",
   "execution_count": 5,
   "metadata": {},
   "outputs": [],
   "source": [
    "# 2 libraries needed \n",
    "\n",
    "from spellchecker import SpellChecker \n",
    "import nltk"
   ]
  },
  {
   "cell_type": "code",
   "execution_count": 9,
   "metadata": {},
   "outputs": [],
   "source": [
    "#Identifies and appends proper nouns present in given line into a list\n",
    "#Uses part-of-speech(POS) tagging to identify proper nouns\n",
    "\n",
    "def append_properNoun(line,properNoun):\n",
    "    tagged_words=nltk.tag.pos_tag(line.split())\n",
    "    for word in tagged_words:\n",
    "        if(word[1]=='NNP'):     #'NNP' -> Tag for Proper Noun\n",
    "            properNoun.append(word[0])"
   ]
  },
  {
   "cell_type": "code",
   "execution_count": 10,
   "metadata": {},
   "outputs": [],
   "source": [
    "#Join all elements of an input list into a single string\n",
    "\n",
    "def converttostr(input_seq, seperator):\n",
    "   # Join all the strings in list\n",
    "   final_str = seperator.join(input_seq)\n",
    "   return final_str"
   ]
  },
  {
   "cell_type": "code",
   "execution_count": 4,
   "metadata": {},
   "outputs": [],
   "source": [
    "#Returns a line with corrected mispelled words(if any)\n",
    "\n",
    "def spellCheck(line):\n",
    "    sep = \"\"\n",
    "    corrected_word = \"\"\n",
    "    corrected_list = list()\n",
    "    corrected_line = \"\"\n",
    "    \n",
    "    spell = SpellChecker() \n",
    "    words = line.split()\n",
    "    for word in words:\n",
    "        if(word[-1].isalnum()==False):\n",
    "            sep = word[-1]\n",
    "            corrected_word = spell.correction(word[0:-1])\n",
    "            corrected_word+=(sep)\n",
    "        else:\n",
    "            corrected_word = spell.correction(word)\n",
    "            \n",
    "        corrected_list.append(corrected_word)  #Append every corrected word to corrected list\n",
    "        \n",
    "    to_join = ' '  #Merge the corrected list to a line\n",
    "    corrected_line += converttostr(corrected_list, to_join)  \n",
    "    \n",
    "    return corrected_line"
   ]
  },
  {
   "cell_type": "code",
   "execution_count": 11,
   "metadata": {},
   "outputs": [
    {
     "output_type": "error",
     "ename": "NameError",
     "evalue": "name 'spell' is not defined",
     "traceback": [
      "\u001b[1;31m---------------------------------------------------------------------------\u001b[0m",
      "\u001b[1;31mNameError\u001b[0m                                 Traceback (most recent call last)",
      "\u001b[1;32m<ipython-input-11-8f0db10706da>\u001b[0m in \u001b[0;36m<module>\u001b[1;34m\u001b[0m\n\u001b[0;32m      6\u001b[0m \u001b[1;32mfor\u001b[0m \u001b[0mline\u001b[0m \u001b[1;32min\u001b[0m \u001b[0mLines\u001b[0m\u001b[1;33m:\u001b[0m\u001b[1;33m\u001b[0m\u001b[1;33m\u001b[0m\u001b[0m\n\u001b[0;32m      7\u001b[0m     \u001b[0mappend_properNoun\u001b[0m\u001b[1;33m(\u001b[0m\u001b[0mline\u001b[0m\u001b[1;33m,\u001b[0m\u001b[0mproperNoun\u001b[0m\u001b[1;33m)\u001b[0m            \u001b[1;31m#Identifies proper nouns\u001b[0m\u001b[1;33m\u001b[0m\u001b[1;33m\u001b[0m\u001b[0m\n\u001b[1;32m----> 8\u001b[1;33m     \u001b[0mspell\u001b[0m\u001b[1;33m.\u001b[0m\u001b[0mword_frequency\u001b[0m\u001b[1;33m.\u001b[0m\u001b[0mload_words\u001b[0m\u001b[1;33m(\u001b[0m\u001b[0mproperNoun\u001b[0m\u001b[1;33m)\u001b[0m   \u001b[1;31m#Includes the proper nouns in 'known' words\u001b[0m\u001b[1;33m\u001b[0m\u001b[1;33m\u001b[0m\u001b[0m\n\u001b[0m\u001b[0;32m      9\u001b[0m     \u001b[0mnew_line\u001b[0m\u001b[1;33m=\u001b[0m\u001b[0mspellCheck\u001b[0m\u001b[1;33m(\u001b[0m\u001b[0mline\u001b[0m\u001b[1;33m)\u001b[0m                     \u001b[1;31m#Rectifies the mispelled words\u001b[0m\u001b[1;33m\u001b[0m\u001b[1;33m\u001b[0m\u001b[0m\n\u001b[0;32m     10\u001b[0m     \u001b[0mfile2\u001b[0m\u001b[1;33m.\u001b[0m\u001b[0mwrite\u001b[0m\u001b[1;33m(\u001b[0m\u001b[0mnew_line\u001b[0m\u001b[1;33m)\u001b[0m                         \u001b[1;31m#Appends corrected line to another .txt file\u001b[0m\u001b[1;33m\u001b[0m\u001b[1;33m\u001b[0m\u001b[0m\n",
      "\u001b[1;31mNameError\u001b[0m: name 'spell' is not defined"
     ]
    }
   ],
   "source": [
    "file1 = open('C:/Users/Pranjal Rane/Documents/Automatic-Question-Generator/out_text.txt', 'r') \n",
    "file2 = open('after_spellCheck', 'w')\n",
    "properNoun=list()               #list of proper nouns\n",
    "\n",
    "Lines = file1.readlines()\n",
    "for line in Lines:\n",
    "    append_properNoun(line,properNoun)            #Identifies proper nouns\n",
    "    spell.word_frequency.load_words(properNoun)   #Includes the proper nouns in 'known' words\n",
    "    new_line=spellCheck(line)                     #Rectifies the mispelled words \n",
    "    file2.write(new_line)                         #Appends corrected line to another .txt file\n",
    "    file2.write(\"\\n\")\n",
    "file1.close()\n",
    "file2.close()"
   ]
  },
  {
   "cell_type": "code",
   "execution_count": null,
   "metadata": {},
   "outputs": [],
   "source": []
  }
 ],
 "metadata": {
  "kernelspec": {
   "display_name": "Python 3",
   "language": "python",
   "name": "python3"
  },
  "language_info": {
   "codemirror_mode": {
    "name": "ipython",
    "version": 3
   },
   "file_extension": ".py",
   "mimetype": "text/x-python",
   "name": "python",
   "nbconvert_exporter": "python",
   "pygments_lexer": "ipython3",
   "version": "3.8.3-final"
  }
 },
 "nbformat": 4,
 "nbformat_minor": 4
}